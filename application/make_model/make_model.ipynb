{
  "nbformat": 4,
  "nbformat_minor": 0,
  "metadata": {
    "colab": {
      "name": "make_model.ipynb",
      "provenance": [],
      "collapsed_sections": []
    },
    "kernelspec": {
      "name": "python3",
      "display_name": "Python 3"
    },
    "language_info": {
      "name": "python"
    },
    "accelerator": "GPU"
  },
  "cells": [
    {
      "cell_type": "code",
      "execution_count": 1,
      "metadata": {
        "colab": {
          "base_uri": "https://localhost:8080/"
        },
        "id": "OqLGfG8fA36y",
        "outputId": "d3159c29-acc1-4038-c482-f77c788ba36b"
      },
      "outputs": [
        {
          "output_type": "stream",
          "name": "stdout",
          "text": [
            "2.8.0\n",
            "2.8.0\n"
          ]
        }
      ],
      "source": [
        "import tensorflow\n",
        "import keras\n",
        "print(tensorflow.__version__)\n",
        "print(keras.__version__)"
      ]
    },
    {
      "cell_type": "markdown",
      "source": [
        "#訓練データの読み込み\n",
        "##cifar-10の読み込み"
      ],
      "metadata": {
        "id": "jGFdLpR0Br0o"
      }
    },
    {
      "cell_type": "code",
      "source": [
        "import numpy as np\n",
        "import matplotlib.pyplot as plt\n",
        "import keras\n",
        "from keras.datasets import cifar10\n",
        "from keras.preprocessing.image import ImageDataGenerator\n",
        "\n",
        "(x_train, y_train),(x_test, y_test) = cifar10.load_data()"
      ],
      "metadata": {
        "colab": {
          "base_uri": "https://localhost:8080/"
        },
        "id": "DGgzWObPB3hu",
        "outputId": "2c7a8826-b655-4530-f302-bf54cd1fbb92"
      },
      "execution_count": 2,
      "outputs": [
        {
          "output_type": "stream",
          "name": "stdout",
          "text": [
            "Downloading data from https://www.cs.toronto.edu/~kriz/cifar-10-python.tar.gz\n",
            "170500096/170498071 [==============================] - 7s 0us/step\n",
            "170508288/170498071 [==============================] - 7s 0us/step\n"
          ]
        }
      ]
    },
    {
      "cell_type": "markdown",
      "source": [
        "##モデルの構築\n"
      ],
      "metadata": {
        "id": "VnsIUvi8GkJZ"
      }
    },
    {
      "cell_type": "code",
      "source": [
        "from keras.models import Sequential\n",
        "from keras.layers import Dense, Dropout, Activation, Flatten\n",
        "from keras.layers import Conv2D,MaxPooling2D\n",
        "from tensorflow.keras.optimizers import Adam\n",
        "from tensorflow.keras import utils as np_utils\n",
        "\n",
        "batch_size = 32\n",
        "epochs = 20\n",
        "n_class = 10\n",
        "\n",
        "# one-hot表現に\n",
        "y_train = np_utils.to_categorical(y_train,n_class)\n",
        "y_test = np_utils.to_categorical(y_test,n_class)\n",
        "\n",
        "model = Sequential()\n",
        "\n",
        "# ゼロパディング、バッチサイズ以外の画像の形状を指定\n",
        "model.add(Conv2D(32, (3,3), padding=\"same\",input_shape=x_train.shape[1:]))\n",
        "model.add(Activation(\"relu\"))\n",
        "model.add(Conv2D(32, (3,3)))\n",
        "model.add(Activation(\"relu\"))\n",
        "model.add(MaxPooling2D(pool_size=(2,2)))\n",
        "\n",
        "model.add(Conv2D(64, (3,3), padding=\"same\"))\n",
        "model.add(Activation(\"relu\"))\n",
        "model.add(Conv2D(64, (3,3)))\n",
        "model.add(Activation(\"relu\"))\n",
        "model.add(MaxPooling2D(pool_size=(2,2)))\n",
        "\n",
        "model.add(Flatten()) #一次元の配列に変換\n",
        "model.add(Dense(256))\n",
        "model.add(Activation(\"relu\"))\n",
        "model.add(Dropout(0.5)) #ドロップアウト層\n",
        "model.add(Dense(n_class)) \n",
        "model.add(Activation(\"softmax\"))\n",
        "\n",
        "model.compile(\n",
        "    optimizer=Adam(), loss='categorical_crossentropy', metrics=['accuracy']\n",
        "    )\n",
        "model.summary()"
      ],
      "metadata": {
        "id": "9a5k-pYeGo3D",
        "colab": {
          "base_uri": "https://localhost:8080/"
        },
        "outputId": "ac1129cb-3f4b-411a-d3d8-b37ac2116791"
      },
      "execution_count": 3,
      "outputs": [
        {
          "output_type": "stream",
          "name": "stdout",
          "text": [
            "Model: \"sequential\"\n",
            "_________________________________________________________________\n",
            " Layer (type)                Output Shape              Param #   \n",
            "=================================================================\n",
            " conv2d (Conv2D)             (None, 32, 32, 32)        896       \n",
            "                                                                 \n",
            " activation (Activation)     (None, 32, 32, 32)        0         \n",
            "                                                                 \n",
            " conv2d_1 (Conv2D)           (None, 30, 30, 32)        9248      \n",
            "                                                                 \n",
            " activation_1 (Activation)   (None, 30, 30, 32)        0         \n",
            "                                                                 \n",
            " max_pooling2d (MaxPooling2D  (None, 15, 15, 32)       0         \n",
            " )                                                               \n",
            "                                                                 \n",
            " conv2d_2 (Conv2D)           (None, 15, 15, 64)        18496     \n",
            "                                                                 \n",
            " activation_2 (Activation)   (None, 15, 15, 64)        0         \n",
            "                                                                 \n",
            " conv2d_3 (Conv2D)           (None, 13, 13, 64)        36928     \n",
            "                                                                 \n",
            " activation_3 (Activation)   (None, 13, 13, 64)        0         \n",
            "                                                                 \n",
            " max_pooling2d_1 (MaxPooling  (None, 6, 6, 64)         0         \n",
            " 2D)                                                             \n",
            "                                                                 \n",
            " flatten (Flatten)           (None, 2304)              0         \n",
            "                                                                 \n",
            " dense (Dense)               (None, 256)               590080    \n",
            "                                                                 \n",
            " activation_4 (Activation)   (None, 256)               0         \n",
            "                                                                 \n",
            " dropout (Dropout)           (None, 256)               0         \n",
            "                                                                 \n",
            " dense_1 (Dense)             (None, 10)                2570      \n",
            "                                                                 \n",
            " activation_5 (Activation)   (None, 10)                0         \n",
            "                                                                 \n",
            "=================================================================\n",
            "Total params: 658,218\n",
            "Trainable params: 658,218\n",
            "Non-trainable params: 0\n",
            "_________________________________________________________________\n"
          ]
        }
      ]
    },
    {
      "cell_type": "markdown",
      "source": [
        "##学習"
      ],
      "metadata": {
        "id": "hk3TSUvIXoki"
      }
    },
    {
      "cell_type": "code",
      "source": [
        "#正規化\n",
        "x_train = x_train / 255\n",
        "x_test  = x_test / 255\n",
        "\n",
        "generator = ImageDataGenerator(\n",
        "    rotation_range=0.2,\n",
        "    width_shift_range=0.2,\n",
        "    height_shift_range=0.2,\n",
        "    shear_range=10,\n",
        "    zoom_range=0.2,\n",
        "    horizontal_flip=True\n",
        ")\n",
        "generator.fit(x_train)\n",
        "\n",
        "history = model.fit_generator(generator.flow(x_train, y_train, batch_size=batch_size),\n",
        "                              epochs=epochs,\n",
        "                              validation_data=(x_test, y_test))"
      ],
      "metadata": {
        "colab": {
          "base_uri": "https://localhost:8080/"
        },
        "id": "7K8MFmXkXrnI",
        "outputId": "2fa5f6f4-2d95-4666-9821-25980ebaa2e5"
      },
      "execution_count": 4,
      "outputs": [
        {
          "output_type": "stream",
          "name": "stderr",
          "text": [
            "/usr/local/lib/python3.7/dist-packages/ipykernel_launcher.py:17: UserWarning: `Model.fit_generator` is deprecated and will be removed in a future version. Please use `Model.fit`, which supports generators.\n"
          ]
        },
        {
          "output_type": "stream",
          "name": "stdout",
          "text": [
            "Epoch 1/20\n",
            "1563/1563 [==============================] - 89s 48ms/step - loss: 1.7467 - accuracy: 0.3536 - val_loss: 1.4306 - val_accuracy: 0.4779\n",
            "Epoch 2/20\n",
            "1563/1563 [==============================] - 69s 44ms/step - loss: 1.4348 - accuracy: 0.4787 - val_loss: 1.2489 - val_accuracy: 0.5574\n",
            "Epoch 3/20\n",
            "1563/1563 [==============================] - 71s 45ms/step - loss: 1.2995 - accuracy: 0.5344 - val_loss: 1.1876 - val_accuracy: 0.5768\n",
            "Epoch 4/20\n",
            "1563/1563 [==============================] - 70s 45ms/step - loss: 1.2177 - accuracy: 0.5664 - val_loss: 1.0631 - val_accuracy: 0.6301\n",
            "Epoch 5/20\n",
            "1563/1563 [==============================] - 67s 43ms/step - loss: 1.1584 - accuracy: 0.5892 - val_loss: 1.0187 - val_accuracy: 0.6435\n",
            "Epoch 6/20\n",
            "1563/1563 [==============================] - 66s 42ms/step - loss: 1.1005 - accuracy: 0.6135 - val_loss: 1.0052 - val_accuracy: 0.6537\n",
            "Epoch 7/20\n",
            "1563/1563 [==============================] - 72s 46ms/step - loss: 1.0655 - accuracy: 0.6230 - val_loss: 0.9083 - val_accuracy: 0.6826\n",
            "Epoch 8/20\n",
            "1563/1563 [==============================] - 68s 43ms/step - loss: 1.0410 - accuracy: 0.6334 - val_loss: 0.9204 - val_accuracy: 0.6746\n",
            "Epoch 9/20\n",
            "1563/1563 [==============================] - 69s 44ms/step - loss: 1.0172 - accuracy: 0.6452 - val_loss: 0.8182 - val_accuracy: 0.7149\n",
            "Epoch 10/20\n",
            "1563/1563 [==============================] - 67s 43ms/step - loss: 0.9965 - accuracy: 0.6538 - val_loss: 0.9217 - val_accuracy: 0.6850\n",
            "Epoch 11/20\n",
            "1563/1563 [==============================] - 67s 43ms/step - loss: 0.9731 - accuracy: 0.6604 - val_loss: 0.9216 - val_accuracy: 0.6855\n",
            "Epoch 12/20\n",
            "1563/1563 [==============================] - 71s 45ms/step - loss: 0.9641 - accuracy: 0.6633 - val_loss: 0.8425 - val_accuracy: 0.7051\n",
            "Epoch 13/20\n",
            "1563/1563 [==============================] - 70s 45ms/step - loss: 0.9568 - accuracy: 0.6674 - val_loss: 0.8418 - val_accuracy: 0.7055\n",
            "Epoch 14/20\n",
            "1563/1563 [==============================] - 68s 44ms/step - loss: 0.9370 - accuracy: 0.6745 - val_loss: 0.8131 - val_accuracy: 0.7146\n",
            "Epoch 15/20\n",
            "1563/1563 [==============================] - 73s 47ms/step - loss: 0.9241 - accuracy: 0.6821 - val_loss: 0.7846 - val_accuracy: 0.7316\n",
            "Epoch 16/20\n",
            "1563/1563 [==============================] - 68s 43ms/step - loss: 0.9185 - accuracy: 0.6785 - val_loss: 0.7550 - val_accuracy: 0.7343\n",
            "Epoch 17/20\n",
            "1563/1563 [==============================] - 70s 45ms/step - loss: 0.9136 - accuracy: 0.6836 - val_loss: 0.7331 - val_accuracy: 0.7436\n",
            "Epoch 18/20\n",
            "1563/1563 [==============================] - 67s 43ms/step - loss: 0.9059 - accuracy: 0.6855 - val_loss: 0.7684 - val_accuracy: 0.7377\n",
            "Epoch 19/20\n",
            "1563/1563 [==============================] - 68s 43ms/step - loss: 0.8955 - accuracy: 0.6928 - val_loss: 0.8318 - val_accuracy: 0.7190\n",
            "Epoch 20/20\n",
            "1563/1563 [==============================] - 66s 42ms/step - loss: 0.8911 - accuracy: 0.6945 - val_loss: 0.7380 - val_accuracy: 0.7472\n"
          ]
        }
      ]
    },
    {
      "cell_type": "code",
      "source": [
        "# 学習の推移を表示\n",
        "import matplotlib.pyplot as plt\n",
        "\n",
        "#訓練データの誤差\n",
        "train_loss = history.history['loss']\n",
        "#訓練データの精度\n",
        "train_acc = history.history[\"accuracy\"]\n",
        "#検査データの誤差\n",
        "val_loss = history.history['val_loss']\n",
        "#訓練データの精度\n",
        "val_acc = history.history[\"val_accuracy\"]\n",
        "\n",
        "plt.plot(np.arange(len(train_loss)), train_loss, label='loss')\n",
        "plt.plot(np.arange(len(val_loss)), val_loss, label='val_loss')\n",
        "plt.legend()\n",
        "plt.show()\n",
        "\n",
        "plt.plot(np.arange(len(train_acc)), train_acc, label='accuracy')\n",
        "plt.plot(np.arange(len(val_acc)), val_acc, label='val_acc')\n",
        "plt.legend()\n",
        "plt.show()"
      ],
      "metadata": {
        "colab": {
          "base_uri": "https://localhost:8080/",
          "height": 513
        },
        "id": "3ImcKIuUm3-d",
        "outputId": "2bc55714-4334-49e7-aae2-5c2bd1546083"
      },
      "execution_count": 5,
      "outputs": [
        {
          "output_type": "display_data",
          "data": {
            "text/plain": [
              "<Figure size 432x288 with 1 Axes>"
            ],
            "image/png": "[encoded data removed]"
          },
          "metadata": {
            "needs_background": "light"
          }
        },
        {
          "output_type": "display_data",
          "data": {
            "text/plain": [
              "<Figure size 432x288 with 1 Axes>"
            ],
            "image/png": "[encoded data removed]"
          },
          "metadata": {
            "needs_background": "light"
          }
        }
      ]
    },
    {
      "cell_type": "code",
      "source": [
        "# モデルの評価\n",
        "loss, accuracy = model.evaluate(x_test,y_test)\n",
        "print(loss,accuracy)"
      ],
      "metadata": {
        "colab": {
          "base_uri": "https://localhost:8080/"
        },
        "id": "0mRytECokiV3",
        "outputId": "2e7eb097-fead-4990-a206-83c59b81ddcf"
      },
      "execution_count": 6,
      "outputs": [
        {
          "output_type": "stream",
          "name": "stdout",
          "text": [
            "313/313 [==============================] - 4s 14ms/step - loss: 0.7380 - accuracy: 0.7472\n",
            "0.7380129098892212 0.7472000122070312\n"
          ]
        }
      ]
    },
    {
      "cell_type": "code",
      "source": [
        "# モデルの保存とダウンロード\n",
        "from google.colab import files\n",
        "\n",
        "model.save(\"image_classifier.h5\",include_optimizer=False)\n",
        "files.download('image_classifier.h5')"
      ],
      "metadata": {
        "colab": {
          "base_uri": "https://localhost:8080/",
          "height": 17
        },
        "id": "GdEOD-ERw6jc",
        "outputId": "835d55b1-2b93-43c0-ba25-88a9b169960f"
      },
      "execution_count": 7,
      "outputs": [
        {
          "output_type": "display_data",
          "data": {
            "text/plain": [
              "<IPython.core.display.Javascript object>"
            ],
            "application/javascript": [
              "\n",
              "    async function download(id, filename, size) {\n",
              "      if (!google.colab.kernel.accessAllowed) {\n",
              "        return;\n",
              "      }\n",
              "      const div = document.createElement('div');\n",
              "      const label = document.createElement('label');\n",
              "      label.textContent = `Downloading \"${filename}\": `;\n",
              "      div.appendChild(label);\n",
              "      const progress = document.createElement('progress');\n",
              "      progress.max = size;\n",
              "      div.appendChild(progress);\n",
              "      document.body.appendChild(div);\n",
              "\n",
              "      const buffers = [];\n",
              "      let downloaded = 0;\n",
              "\n",
              "      const channel = await google.colab.kernel.comms.open(id);\n",
              "      // Send a message to notify the kernel that we're ready.\n",
              "      channel.send({})\n",
              "\n",
              "      for await (const message of channel.messages) {\n",
              "        // Send a message to notify the kernel that we're ready.\n",
              "        channel.send({})\n",
              "        if (message.buffers) {\n",
              "          for (const buffer of message.buffers) {\n",
              "            buffers.push(buffer);\n",
              "            downloaded += buffer.byteLength;\n",
              "            progress.value = downloaded;\n",
              "          }\n",
              "        }\n",
              "      }\n",
              "      const blob = new Blob(buffers, {type: 'application/binary'});\n",
              "      const a = document.createElement('a');\n",
              "      a.href = window.URL.createObjectURL(blob);\n",
              "      a.download = filename;\n",
              "      div.appendChild(a);\n",
              "      a.click();\n",
              "      div.remove();\n",
              "    }\n",
              "  "
            ]
          },
          "metadata": {}
        },
        {
          "output_type": "display_data",
          "data": {
            "text/plain": [
              "<IPython.core.display.Javascript object>"
            ],
            "application/javascript": [
              "download(\"download_ae908b8f-7478-428c-894a-5069960d7a8c\", \"image_classifier.h5\", 2671352)"
            ]
          },
          "metadata": {}
        }
      ]
    }
  ]
}